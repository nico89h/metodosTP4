{
 "cells": [
  {
   "cell_type": "code",
   "execution_count": 1,
   "id": "246a299e",
   "metadata": {},
   "outputs": [
    {
     "name": "stdout",
     "output_type": "stream",
     "text": [
      "[-0.57063, 17.728821041172914, 2.6235090586705883, 12.98045628550368, 2.1144690463732894, 0.9841464014316296, 2.04083]\n",
      "El polinomio interpolante es:-0.57063+17.728821041172914*(x-0.33333)+2.6235090586705883*(x-0.33333)(x-(-2))+12.98045628550368*(x-0.33333)(x-(-2))(x-2.08333)+2.1144690463732894*(x-0.33333)(x-(-2))(x-2.08333)(x-2.66667)+0.9841464014316296*(x-0.33333)(x-(-2))(x-2.08333)(x-2.66667)(x-(-0.83333))+2.04083*(x-0.33333)(x-(-2))(x-2.08333)(x-2.66667)(x-(-0.83333))(x-(-0.25))\n",
      "-2.644387086692515\n"
     ]
    }
   ],
   "source": [
    "import sympy as sym\n",
    "\n",
    "def DifDiv(x,d,n):\n",
    "    for i in range(1,n,1):\n",
    "        for j in range(n-1,i-1,-1):\n",
    "#             print(\"j: \",j)\n",
    "#             print(\"i: \",i)\n",
    "#             print(\"xj: \",x[j])\n",
    "#             print(\"xj-i: \",x[j-i])\n",
    "#             print(\"dj: \",d[j])\n",
    "#             print(\"dj-1: \",d[j-1])\n",
    "            d[j] = (d[j]-d[j-1])/(x[j]-x[j-i])\n",
    "    return d\n",
    "\n",
    "x = [0.33333,-2,2.08333,2.66667,-0.83333,-0.25,0.91667]\n",
    "d = [-0.57063, -41.93782,  49.20195, 151.81511,  -2.67378, -1.35019, 2.04083]\n",
    "n = 6\n",
    "\n",
    "d=DifDiv(x,d,n)\n",
    "print(d)\n",
    "def p(d,x): # generar el polinimo interpolante\n",
    "    n=len(x)\n",
    "    y=d[0]\n",
    "    jose='El polinomio interpolante es:'+str(y)\n",
    "    #nose=sym\n",
    "    for i in range(1,n,1): # recorre la cantidad de elementos que tiene la x\n",
    "        if(d[i]<0):\n",
    "            jose=jose+\"+(\"+(str(d[i]))+\")*\"\n",
    "        else:\n",
    "            jose=jose+\"+\"+str(d[i])+\"*\"\n",
    "        for j in range(0,i,1):\n",
    "            if(x[j]<0):\n",
    "                jose=jose+\"(x-(\"+str(x[j])+\"))\"\n",
    "            else:\n",
    "                jose=jose+\"(x-\"+str(x[j])+\")\"\n",
    "    return jose\n",
    "#\n",
    "def r(x,d,z):\n",
    "    n=len(x) # toma la cantidad de elementos que tiene\n",
    "    total=0\n",
    "    y=d[0]\n",
    "    total=y\n",
    "    aux=1 #calcular la mutiplicacion de los x\n",
    "    for i in range(1,n,1):\n",
    "        for j in range(0,i,1):\n",
    "            aux=aux*(z-x[j])\n",
    "        total=total+d[i]*aux\n",
    "        aux=1\n",
    "    return total\n",
    "# valor = p(d,x,5)\n",
    "# print(valor)\n",
    "buenas=p(d,x)\n",
    "print(buenas)\n",
    "nicolas=r(x,d,0)\n",
    "print(nicolas)"
   ]
  },
  {
   "cell_type": "code",
   "execution_count": 8,
   "id": "5882d1cf",
   "metadata": {},
   "outputs": [
    {
     "data": {
      "image/png": "[encoded data removed]",
      "text/plain": [
       "<Figure size 432x288 with 1 Axes>"
      ]
     },
     "metadata": {
      "needs_background": "light"
     },
     "output_type": "display_data"
    }
   ],
   "source": [
    "#inicio de el punto de el pato\n",
    "import numpy as np\n",
    "import matplotlib.pyplot as plt\n",
    "#puntos del arreglo\n",
    "xi = np.array([0.9,1.3,1.9,2.1,2.6,3.0,3.9,4.4,4.7,5.0,6.0,7.0,8.0,9.2,10.5,11.3,11.6,12.0,12.6,13.0,13.3])\n",
    "fi = np.array([1.3,1.5,1.85,2.1,2.6,2.7,2.4,2.15,2.05,2.1,2.25,2.3,2.25,1.95,1.4,0.9,0.7,0.6,0.5,0.4,0.25])\n",
    "plt.plot(xi,fi,'o', label = 'Puntos')\n",
    "plt.legend()\n",
    "plt.xlabel('xi')\n",
    "plt.ylabel('fi')\n",
    "plt.title(\"jose\")\n",
    "plt.xlim(0,15)\n",
    "plt.ylim(-4,4)\n",
    "\n",
    "plt.show()\n",
    "\n"
   ]
  },
  {
   "cell_type": "code",
   "execution_count": 17,
   "id": "c40244ba",
   "metadata": {},
   "outputs": [
    {
     "name": "stdout",
     "output_type": "stream",
     "text": [
      "[1.3  1.5  1.85 2.1  2.6  2.7  2.4  2.15 2.05 2.1  2.25 2.3  2.25 1.95\n",
      " 1.4  0.9  0.7  0.6  0.5  0.4  0.25]\n"
     ]
    },
    {
     "data": {
      "text/plain": [
       "(-4.0, 4.0)"
      ]
     },
     "execution_count": 17,
     "metadata": {},
     "output_type": "execute_result"
    },
    {
     "data": {
      "image/png": "[encoded data removed]",
      "text/plain": [
       "<Figure size 432x288 with 1 Axes>"
      ]
     },
     "metadata": {
      "needs_background": "light"
     },
     "output_type": "display_data"
    }
   ],
   "source": [
    "#inicio del cubic spline de el punto 3 del tp4\n",
    "#importo la libreria\n",
    "from scipy.interpolate import CubicSpline as Cp\n",
    "x = np.array([0.9,1.3,1.9,2.1,2.6,3.0,3.9,4.4,4.7,5.0,6.0,7.0,8.0,9.2,10.5,11.3,11.6,12.0,12.6,13.0,13.3])\n",
    "y = np.array([1.3,1.5,1.85,2.1,2.6,2.7,2.4,2.15,2.05,2.1,2.25,2.3,2.25,1.95,1.4,0.9,0.7,0.6,0.5,0.4,0.25])\n",
    "aux=Cp(x,y)\n",
    "print(aux(x))\n",
    "\n",
    "plt.plot(x, y, 'o', label='data')\n",
    "\n",
    "plt.plot(x, aux(x), label=\"S\")\n",
    "plt.xlim(0,15)\n",
    "plt.ylim(-4,4)\n",
    "\n",
    "mport numpy as np\n",
    "from scipy.interpolate import CubicSpline\n",
    "\n",
    "# calculate 5 natural cubic spline polynomials for 6 points\n",
    "# (x,y) = (0,12) (1,14) (2,22) (3,39) (4,58) (5,77)\n",
    "x = np.array([0, 1, 2, 3, 4, 5])\n",
    "y = np.array([12,14,22,39,58,77])\n",
    "\n",
    "# calculate natural cubic spline polynomials\n",
    "cs = CubicSpline(x,y,bc_type='natural')\n",
    "\n",
    "# show values of interpolation function at x=1.25\n",
    "print('S(1.25) = ', cs(1.25))\n",
    "\n",
    "## Aditional - find polynomial coefficients for different x regions\n",
    "\n",
    "# if you want to print polynomial coefficients in form\n",
    "# S0(0<=x<=1) = a0 + b0(x-x0) + c0(x-x0)^2 + d0(x-x0)^3\n",
    "# S1(1< x<=2) = a1 + b1(x-x1) + c1(x-x1)^2 + d1(x-x1)^3\n",
    "# ...\n",
    "# S4(4< x<=5) = a4 + b4(x-x4) + c5(x-x4)^2 + d5(x-x4)^3\n",
    "# x0 = 0; x1 = 1; x4 = 4; (start of x region interval)\n",
    "\n",
    "# show values of a0, b0, c0, d0, a1, b1, c1, d1 ...\n",
    "cs.c\n",
    "\n",
    "# Polynomial coefficients for 0 <= x <= 1\n",
    "a0 = cs.c.item(3,0)\n",
    "b0 = cs.c.item(2,0)\n",
    "c0 = cs.c.item(1,0)\n",
    "d0 = cs.c.item(0,0)\n",
    "\n",
    "# Polynomial coefficients for 1 < x <= 2\n",
    "a1 = cs.c.item(3,1)\n",
    "b1 = cs.c.item(2,1)\n",
    "c1 = cs.c.item(1,1)\n",
    "d1 = cs.c.item(0,1)\n",
    "\n",
    "# ...\n",
    "\n",
    "# Polynomial coefficients for 4 < x <= 5\n",
    "a4 = cs.c.item(3,4)\n",
    "b4 = cs.c.item(2,4)\n",
    "c4 = cs.c.item(1,4)\n",
    "d4 = cs.c.item(0,4)\n",
    "\n",
    "# Print polynomial equations for different x regions\n",
    "print('S0(0<=x<=1) = ', a0, ' + ', b0, '(x-0) + ', c0, '(x-0)^2  + ', d0, '(x-0)^3')\n",
    "print('S1(1< x<=2) = ', a1, ' + ', b1, '(x-1) + ', c1, '(x-1)^2  + ', d1, '(x-1)^3')\n",
    "print('...')\n",
    "print('S5(4< x<=5) = ', a4, ' + ', b4, '(x-4) + ', c4, '(x-4)^2  + ', d4, '(x-4)^3')\n",
    "\n",
    "# So we can calculate S(1.25) by using equation S1(1< x<=2)\n",
    "print('S(1.25) = ', a1 + b1*0.25 + c1*(0.25**2) + d1*(0.25**3))\n",
    "\n",
    "# Cubic spline interpolation calculus example\n",
    "    #  https://www.youtube.com/watch?v=gT7F3TWihvk"
   ]
  },
  {
   "cell_type": "code",
   "execution_count": null,
   "id": "deab2d27",
   "metadata": {},
   "outputs": [],
   "source": []
  }
 ],
 "metadata": {
  "kernelspec": {
   "display_name": "Python 3 (ipykernel)",
   "language": "python",
   "name": "python3"
  },
  "language_info": {
   "codemirror_mode": {
    "name": "ipython",
    "version": 3
   },
   "file_extension": ".py",
   "mimetype": "text/x-python",
   "name": "python",
   "nbconvert_exporter": "python",
   "pygments_lexer": "ipython3",
   "version": "3.9.7"
  }
 },
 "nbformat": 4,
 "nbformat_minor": 5
}
